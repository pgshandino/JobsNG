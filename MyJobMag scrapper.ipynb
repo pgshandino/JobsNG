{
 "cells": [
  {
   "cell_type": "code",
   "execution_count": 1,
   "id": "640d8c4d-fef0-4ba7-b16e-d3b3f29ed9a0",
   "metadata": {},
   "outputs": [],
   "source": [
    "import requests\n",
    "from bs4 import BeautifulSoup as bs"
   ]
  },
  {
   "cell_type": "code",
   "execution_count": 2,
   "id": "5ec2d9d5-d300-455f-b5ad-08d449a9eaec",
   "metadata": {},
   "outputs": [],
   "source": [
    "base_url = 'https://www.myjobmag.com'\n",
    "pages = 11"
   ]
  },
  {
   "cell_type": "code",
   "execution_count": 6,
   "id": "e789ef82-8e9c-49ce-9602-5168f350f41f",
   "metadata": {},
   "outputs": [],
   "source": [
    "urls = []\n",
    "for page in range(1, pages):\n",
    "    # print(f'https://www.myjobmag.com/page/{page}')\n",
    "    urls.append(f'https://www.myjobmag.com/page/{page}')\n",
    "\n"
   ]
  },
  {
   "cell_type": "code",
   "execution_count": 8,
   "id": "d8beccea-49c1-410c-aa6b-277ad0bf5f4e",
   "metadata": {},
   "outputs": [],
   "source": [
    "urls_1 = [f'https://www.myjobmag.com/page/{page}' for page in range(pages)]"
   ]
  },
  {
   "cell_type": "code",
   "execution_count": 104,
   "id": "68319680-432d-4626-9a1d-258e3e52ab97",
   "metadata": {},
   "outputs": [
    {
     "name": "stdout",
     "output_type": "stream",
     "text": [
      "https://www.myjobmag.com/page/1\n",
      "https://www.myjobmag.com/page/2\n",
      "https://www.myjobmag.com/page/3\n",
      "https://www.myjobmag.com/page/4\n",
      "https://www.myjobmag.com/page/5\n",
      "https://www.myjobmag.com/page/6\n",
      "https://www.myjobmag.com/page/7\n",
      "https://www.myjobmag.com/page/8\n",
      "https://www.myjobmag.com/page/9\n"
     ]
    }
   ],
   "source": [
    "all_jobs = []\n",
    "for url in urls:\n",
    "    print(url)\n",
    "    response = requests.get(\n",
    "        url\n",
    "    ).text\n",
    "\n",
    "    soup = bs(response, 'html.parser')\n",
    "\n",
    "    jobs = soup.find_all('li', class_='job-list-li')\n",
    "\n",
    "    \n",
    "    for job in jobs:\n",
    "        # print(job)\n",
    "        try:\n",
    "\n",
    "            inner_url = base_url + bs(str(job), 'html.parser').find('h2').find('a')['href']\n",
    "            # print(base_url + bs(str(job), 'html.parser').find('h2').find('a')['href'], base_url + bs(str(job), 'html.parser').find('h2').find('a').text)\n",
    "            job_data = dict(\n",
    "                job_url = inner_url,\n",
    "                job_name = bs(str(job), 'html.parser').find('h2').find('a').text,\n",
    "                date_posted = bs(str(job), 'html.parser').find('li', id='job-date').text\n",
    "            )\n",
    "\n",
    "            resp = requests.get(\n",
    "                inner_url\n",
    "            )\n",
    "    \n",
    "            s = bs(resp.content, 'html.parser')\n",
    "    \n",
    "            data = dict(\n",
    "                job_industry = s.find('li', class_='job-industry').text,\n",
    "                posted_on = s.find('div', id='posted-date').text,\n",
    "                deadline = s.find_all('div', class_='read-date-sec-li')[1].text,\n",
    "                job_details = s.find('div', class_='job-details').text\n",
    "            )\n",
    "            \n",
    "            deets = dict(zip([i.text for i in s.find_all('span', class_='jkey-title')], [i.text for i in s.find_all('span', class_='jkey-info')]))\n",
    "            \n",
    "            data.update(deets)\n",
    "            job_data.update(data)\n",
    "            all_jobs.append(job_data)\n",
    "        except AttributeError:\n",
    "            pass"
   ]
  },
  {
   "cell_type": "code",
   "execution_count": 12,
   "id": "9af78bc6-885d-49ab-b921-66f9467f3fdd",
   "metadata": {},
   "outputs": [],
   "source": [
    "response = requests.get(\n",
    "    'https://www.myjobmag.com/page/2'\n",
    ").text"
   ]
  },
  {
   "cell_type": "code",
   "execution_count": 14,
   "id": "62017bf1-3e8b-4b0f-87e8-6c96ed771e75",
   "metadata": {},
   "outputs": [],
   "source": [
    "soup = bs(response, 'html.parser')"
   ]
  },
  {
   "cell_type": "code",
   "execution_count": 19,
   "id": "6da251fc-f810-47cd-9962-e635abb9ee97",
   "metadata": {},
   "outputs": [],
   "source": [
    "jobs = soup.find_all('li', class_='job-list-li')"
   ]
  },
  {
   "cell_type": "code",
   "execution_count": 63,
   "id": "39e74b51-8037-41ff-8545-d7553a7a19ca",
   "metadata": {},
   "outputs": [],
   "source": [
    "all_jobs = []\n",
    "\n",
    "for job in jobs:\n",
    "    # print(job)\n",
    "    try:\n",
    "        # print(base_url + bs(str(job), 'html.parser').find('h2').find('a')['href'], base_url + bs(str(job), 'html.parser').find('h2').find('a').text)\n",
    "        inner_url = base_url + bs(str(job), 'html.parser').find('h2').find('a')['href']\n",
    "        job_data = dict(\n",
    "            job_url = inner_url,\n",
    "            job_name = bs(str(job), 'html.parser').find('h2').find('a').text,\n",
    "            date_posted = bs(str(job), 'html.parser').find('li', id='job-date').text\n",
    "        )\n",
    "\n",
    "        resp = requests.get(\n",
    "            inner_url\n",
    "        )\n",
    "\n",
    "        s = bs(resp.content, 'html.parser')\n",
    "\n",
    "        data = dict(\n",
    "            job_industry = s.find('li', class_='job-industry').text,\n",
    "            posted_on = s.find('div', id='posted-date').text,\n",
    "            deadline = s.find_all('div', class_='read-date-sec-li')[1].text,\n",
    "            job_details = s.find('div', class_='job-details').text\n",
    "        )\n",
    "        \n",
    "        deets = dict(zip([i.text for i in s.find_all('span', class_='jkey-title')], [i.text for i in s.find_all('span', class_='jkey-info')]))\n",
    "        \n",
    "        data.update(deets)\n",
    "        job_data.update(data)\n",
    "        all_jobs.append(job_data)\n",
    "    except AttributeError:\n",
    "        pass"
   ]
  },
  {
   "cell_type": "code",
   "execution_count": 61,
   "id": "9e7efcd9-6a7a-4fbc-bbd4-80fae7dd3c73",
   "metadata": {},
   "outputs": [],
   "source": [
    "import pandas as pd"
   ]
  },
  {
   "cell_type": "code",
   "execution_count": 105,
   "id": "d6cab038-3c28-4a01-b1a8-4b5037c5b275",
   "metadata": {},
   "outputs": [
    {
     "data": {
      "text/html": [
       "<div>\n",
       "<style scoped>\n",
       "    .dataframe tbody tr th:only-of-type {\n",
       "        vertical-align: middle;\n",
       "    }\n",
       "\n",
       "    .dataframe tbody tr th {\n",
       "        vertical-align: top;\n",
       "    }\n",
       "\n",
       "    .dataframe thead th {\n",
       "        text-align: right;\n",
       "    }\n",
       "</style>\n",
       "<table border=\"1\" class=\"dataframe\">\n",
       "  <thead>\n",
       "    <tr style=\"text-align: right;\">\n",
       "      <th></th>\n",
       "      <th>job_url</th>\n",
       "      <th>job_name</th>\n",
       "      <th>date_posted</th>\n",
       "      <th>job_industry</th>\n",
       "      <th>posted_on</th>\n",
       "      <th>deadline</th>\n",
       "      <th>job_details</th>\n",
       "      <th>Job Type</th>\n",
       "      <th>Qualification</th>\n",
       "      <th>Experience</th>\n",
       "      <th>Location</th>\n",
       "      <th>Job Field</th>\n",
       "      <th>Salary Range</th>\n",
       "      <th>City</th>\n",
       "    </tr>\n",
       "  </thead>\n",
       "  <tbody>\n",
       "    <tr>\n",
       "      <th>0</th>\n",
       "      <td>https://www.myjobmag.com/job/marketing-executi...</td>\n",
       "      <td>Marketing Executive at Vastovers Group</td>\n",
       "      <td>29 August</td>\n",
       "      <td>\\nView Jobs in Healthcare / Medical\\n/\\nView J...</td>\n",
       "      <td>Posted: Aug 29, 2024</td>\n",
       "      <td>Deadline: Not specified</td>\n",
       "      <td>\\nQUALIFICATION:\\nBachelor's degree (or equiva...</td>\n",
       "      <td>Full Time</td>\n",
       "      <td>BA/BSc/HND</td>\n",
       "      <td>2 - 10 years</td>\n",
       "      <td>Abuja , Lagos</td>\n",
       "      <td>Medical / Healthcare  , Pharmaceutical  , Sale...</td>\n",
       "      <td>NaN</td>\n",
       "      <td>NaN</td>\n",
       "    </tr>\n",
       "    <tr>\n",
       "      <th>1</th>\n",
       "      <td>https://www.myjobmag.com/job/store-keeper-caps...</td>\n",
       "      <td>Store Keeper at Capsgain Solutions</td>\n",
       "      <td>29 August</td>\n",
       "      <td>\\nView Jobs in Internet / E-commerce\\n/\\nView ...</td>\n",
       "      <td>Posted: Aug 29, 2024</td>\n",
       "      <td>Deadline: Not specified</td>\n",
       "      <td>\\nJob Description:\\nWe are seeking a meticulou...</td>\n",
       "      <td>Full Time</td>\n",
       "      <td>BA/BSc/HND</td>\n",
       "      <td>2 years</td>\n",
       "      <td>Lagos</td>\n",
       "      <td>Procurement / Store-keeping / Supply Chain</td>\n",
       "      <td>NaN</td>\n",
       "      <td>NaN</td>\n",
       "    </tr>\n",
       "    <tr>\n",
       "      <th>2</th>\n",
       "      <td>https://www.myjobmag.com/job/network-security-...</td>\n",
       "      <td>Network Security Officer at Lumenave Internati...</td>\n",
       "      <td>29 August</td>\n",
       "      <td>\\nView Jobs in ICT / Telecommunication\\n/\\nVie...</td>\n",
       "      <td>Posted: Aug 29, 2024</td>\n",
       "      <td>Deadline: Not specified</td>\n",
       "      <td>\\nJob Description\\nWe are looking to hire a su...</td>\n",
       "      <td>Full Time</td>\n",
       "      <td>BA/BSc/HND , MBA/MSc/MA , PhD/Fellowship</td>\n",
       "      <td>1 year</td>\n",
       "      <td>Lagos</td>\n",
       "      <td>ICT / Computer</td>\n",
       "      <td>₦200,000 - ₦300,000/month</td>\n",
       "      <td>NaN</td>\n",
       "    </tr>\n",
       "    <tr>\n",
       "      <th>3</th>\n",
       "      <td>https://www.myjobmag.com/job/consultant-revisi...</td>\n",
       "      <td>Consultant - Revision of the National DMPA-SC/...</td>\n",
       "      <td>29 August</td>\n",
       "      <td>\\nView Jobs in NGO / Non-Profit Associations\\n...</td>\n",
       "      <td>Posted: Aug 29, 2024</td>\n",
       "      <td>Deadline: Sep 2, 2024</td>\n",
       "      <td>\\nJob Type: Short-Term\\nLocation: Abuja-FCT\\nD...</td>\n",
       "      <td>Contract</td>\n",
       "      <td>MBA/MSc/MA</td>\n",
       "      <td>5 - 10 years</td>\n",
       "      <td>Abuja</td>\n",
       "      <td>Consultancy  , NGO/Non-Profit</td>\n",
       "      <td>NaN</td>\n",
       "      <td>NaN</td>\n",
       "    </tr>\n",
       "    <tr>\n",
       "      <th>4</th>\n",
       "      <td>https://www.myjobmag.com/job/reporter-dockaysw...</td>\n",
       "      <td>Reporter at Dockaysworld</td>\n",
       "      <td>29 August</td>\n",
       "      <td>\\nView Jobs in Media / Radio / TV\\n/\\nView Job...</td>\n",
       "      <td>Posted: Aug 29, 2024</td>\n",
       "      <td>Deadline: Not specified</td>\n",
       "      <td>\\nKey Responsibilities \\nGather Stories on beh...</td>\n",
       "      <td>Full Time</td>\n",
       "      <td>BA/BSc/HND</td>\n",
       "      <td>5 years</td>\n",
       "      <td>Lagos</td>\n",
       "      <td>Media / Advertising / Branding</td>\n",
       "      <td>₦100,000 - ₦150,000/month</td>\n",
       "      <td>NaN</td>\n",
       "    </tr>\n",
       "    <tr>\n",
       "      <th>...</th>\n",
       "      <td>...</td>\n",
       "      <td>...</td>\n",
       "      <td>...</td>\n",
       "      <td>...</td>\n",
       "      <td>...</td>\n",
       "      <td>...</td>\n",
       "      <td>...</td>\n",
       "      <td>...</td>\n",
       "      <td>...</td>\n",
       "      <td>...</td>\n",
       "      <td>...</td>\n",
       "      <td>...</td>\n",
       "      <td>...</td>\n",
       "      <td>...</td>\n",
       "    </tr>\n",
       "    <tr>\n",
       "      <th>310</th>\n",
       "      <td>https://www.myjobmag.com/job/account-manager-p...</td>\n",
       "      <td>Account Manager at President Paint Nigeria Lim...</td>\n",
       "      <td>27 August</td>\n",
       "      <td>\\nView Jobs in Manufacturing / Production / FM...</td>\n",
       "      <td>Posted: Aug 27, 2024</td>\n",
       "      <td>Deadline: Not specified</td>\n",
       "      <td>\\nJob Description\\n\\nPlan, implement and super...</td>\n",
       "      <td>Full Time</td>\n",
       "      <td>BA/BSc/HND</td>\n",
       "      <td>3 - 4 years</td>\n",
       "      <td>Lagos</td>\n",
       "      <td>Sales / Marketing / Retail / Business Developm...</td>\n",
       "      <td>NaN</td>\n",
       "      <td>NaN</td>\n",
       "    </tr>\n",
       "    <tr>\n",
       "      <th>311</th>\n",
       "      <td>https://www.myjobmag.com/job/sales-executive-s...</td>\n",
       "      <td>Sales Executive at Starich Recycling Technolog...</td>\n",
       "      <td>27 August</td>\n",
       "      <td>\\nView Jobs in Engineering / Technical\\n/\\nVie...</td>\n",
       "      <td>Posted: Aug 27, 2024</td>\n",
       "      <td>Deadline: Not specified</td>\n",
       "      <td>\\nJob Responsibilities\\n\\nResponsible for conc...</td>\n",
       "      <td>Full Time</td>\n",
       "      <td>BA/BSc/HND</td>\n",
       "      <td>3 - 8 years</td>\n",
       "      <td>Lagos</td>\n",
       "      <td>Sales / Marketing / Retail / Business Developm...</td>\n",
       "      <td>NaN</td>\n",
       "      <td>NaN</td>\n",
       "    </tr>\n",
       "    <tr>\n",
       "      <th>312</th>\n",
       "      <td>https://www.myjobmag.com/job/registrar-damboa-...</td>\n",
       "      <td>Registrar - Damboa at Medecins du Monde</td>\n",
       "      <td>27 August</td>\n",
       "      <td>\\nView Jobs in Healthcare / Medical\\n/\\nView J...</td>\n",
       "      <td>Posted: Aug 27, 2024</td>\n",
       "      <td>Deadline: Sep 4, 2024</td>\n",
       "      <td>\\nSUMMARY\\nUnder the supervision of the Medica...</td>\n",
       "      <td>Full Time</td>\n",
       "      <td>BA/BSc/HND , Others</td>\n",
       "      <td>3 years</td>\n",
       "      <td>Borno</td>\n",
       "      <td>Data, Business Analysis and AI  , NGO/Non-Profit</td>\n",
       "      <td>₦200,000 - ₦300,000/month</td>\n",
       "      <td>NaN</td>\n",
       "    </tr>\n",
       "    <tr>\n",
       "      <th>313</th>\n",
       "      <td>https://www.myjobmag.com/job/key-account-sales...</td>\n",
       "      <td>Key Account Sales Executive at Speedaf Nigeria...</td>\n",
       "      <td>27 August</td>\n",
       "      <td>\\nView Jobs in Logistics and Transportation\\n/...</td>\n",
       "      <td>Posted: Aug 27, 2024</td>\n",
       "      <td>Deadline: Not specified</td>\n",
       "      <td>\\nJob Summary\\n\\nThe Sales Executive is respon...</td>\n",
       "      <td>Full Time</td>\n",
       "      <td>BA/BSc/HND</td>\n",
       "      <td>3 years</td>\n",
       "      <td>Lagos</td>\n",
       "      <td>Sales / Marketing / Retail / Business Developm...</td>\n",
       "      <td>NaN</td>\n",
       "      <td>NaN</td>\n",
       "    </tr>\n",
       "    <tr>\n",
       "      <th>314</th>\n",
       "      <td>https://www.myjobmag.com/job/electrical-engine...</td>\n",
       "      <td>Electrical Engineer at Mikano</td>\n",
       "      <td>27 August</td>\n",
       "      <td>\\nView Jobs in Engineering / Technical\\n/\\nVie...</td>\n",
       "      <td>Posted: Aug 27, 2024</td>\n",
       "      <td>Deadline: Not specified</td>\n",
       "      <td>\\nJob Responsibilities\\n\\nSound knowledge of e...</td>\n",
       "      <td>Full Time</td>\n",
       "      <td>BA/BSc/HND</td>\n",
       "      <td></td>\n",
       "      <td>Lagos</td>\n",
       "      <td>Engineering / Technical</td>\n",
       "      <td>NaN</td>\n",
       "      <td>NaN</td>\n",
       "    </tr>\n",
       "  </tbody>\n",
       "</table>\n",
       "<p>315 rows × 14 columns</p>\n",
       "</div>"
      ],
      "text/plain": [
       "                                               job_url  \\\n",
       "0    https://www.myjobmag.com/job/marketing-executi...   \n",
       "1    https://www.myjobmag.com/job/store-keeper-caps...   \n",
       "2    https://www.myjobmag.com/job/network-security-...   \n",
       "3    https://www.myjobmag.com/job/consultant-revisi...   \n",
       "4    https://www.myjobmag.com/job/reporter-dockaysw...   \n",
       "..                                                 ...   \n",
       "310  https://www.myjobmag.com/job/account-manager-p...   \n",
       "311  https://www.myjobmag.com/job/sales-executive-s...   \n",
       "312  https://www.myjobmag.com/job/registrar-damboa-...   \n",
       "313  https://www.myjobmag.com/job/key-account-sales...   \n",
       "314  https://www.myjobmag.com/job/electrical-engine...   \n",
       "\n",
       "                                              job_name date_posted  \\\n",
       "0               Marketing Executive at Vastovers Group   29 August   \n",
       "1                   Store Keeper at Capsgain Solutions   29 August   \n",
       "2    Network Security Officer at Lumenave Internati...   29 August   \n",
       "3    Consultant - Revision of the National DMPA-SC/...   29 August   \n",
       "4                             Reporter at Dockaysworld   29 August   \n",
       "..                                                 ...         ...   \n",
       "310  Account Manager at President Paint Nigeria Lim...   27 August   \n",
       "311  Sales Executive at Starich Recycling Technolog...   27 August   \n",
       "312            Registrar - Damboa at Medecins du Monde   27 August   \n",
       "313  Key Account Sales Executive at Speedaf Nigeria...   27 August   \n",
       "314                      Electrical Engineer at Mikano   27 August   \n",
       "\n",
       "                                          job_industry             posted_on  \\\n",
       "0    \\nView Jobs in Healthcare / Medical\\n/\\nView J...  Posted: Aug 29, 2024   \n",
       "1    \\nView Jobs in Internet / E-commerce\\n/\\nView ...  Posted: Aug 29, 2024   \n",
       "2    \\nView Jobs in ICT / Telecommunication\\n/\\nVie...  Posted: Aug 29, 2024   \n",
       "3    \\nView Jobs in NGO / Non-Profit Associations\\n...  Posted: Aug 29, 2024   \n",
       "4    \\nView Jobs in Media / Radio / TV\\n/\\nView Job...  Posted: Aug 29, 2024   \n",
       "..                                                 ...                   ...   \n",
       "310  \\nView Jobs in Manufacturing / Production / FM...  Posted: Aug 27, 2024   \n",
       "311  \\nView Jobs in Engineering / Technical\\n/\\nVie...  Posted: Aug 27, 2024   \n",
       "312  \\nView Jobs in Healthcare / Medical\\n/\\nView J...  Posted: Aug 27, 2024   \n",
       "313  \\nView Jobs in Logistics and Transportation\\n/...  Posted: Aug 27, 2024   \n",
       "314  \\nView Jobs in Engineering / Technical\\n/\\nVie...  Posted: Aug 27, 2024   \n",
       "\n",
       "                    deadline  \\\n",
       "0    Deadline: Not specified   \n",
       "1    Deadline: Not specified   \n",
       "2    Deadline: Not specified   \n",
       "3      Deadline: Sep 2, 2024   \n",
       "4    Deadline: Not specified   \n",
       "..                       ...   \n",
       "310  Deadline: Not specified   \n",
       "311  Deadline: Not specified   \n",
       "312    Deadline: Sep 4, 2024   \n",
       "313  Deadline: Not specified   \n",
       "314  Deadline: Not specified   \n",
       "\n",
       "                                           job_details   Job Type  \\\n",
       "0    \\nQUALIFICATION:\\nBachelor's degree (or equiva...  Full Time   \n",
       "1    \\nJob Description:\\nWe are seeking a meticulou...  Full Time   \n",
       "2    \\nJob Description\\nWe are looking to hire a su...  Full Time   \n",
       "3    \\nJob Type: Short-Term\\nLocation: Abuja-FCT\\nD...   Contract   \n",
       "4    \\nKey Responsibilities \\nGather Stories on beh...  Full Time   \n",
       "..                                                 ...        ...   \n",
       "310  \\nJob Description\\n\\nPlan, implement and super...  Full Time   \n",
       "311  \\nJob Responsibilities\\n\\nResponsible for conc...  Full Time   \n",
       "312  \\nSUMMARY\\nUnder the supervision of the Medica...  Full Time   \n",
       "313  \\nJob Summary\\n\\nThe Sales Executive is respon...  Full Time   \n",
       "314  \\nJob Responsibilities\\n\\nSound knowledge of e...  Full Time   \n",
       "\n",
       "                                Qualification    Experience       Location  \\\n",
       "0                                  BA/BSc/HND  2 - 10 years  Abuja , Lagos   \n",
       "1                                  BA/BSc/HND       2 years          Lagos   \n",
       "2    BA/BSc/HND , MBA/MSc/MA , PhD/Fellowship        1 year          Lagos   \n",
       "3                                  MBA/MSc/MA  5 - 10 years          Abuja   \n",
       "4                                  BA/BSc/HND       5 years          Lagos   \n",
       "..                                        ...           ...            ...   \n",
       "310                                BA/BSc/HND   3 - 4 years          Lagos   \n",
       "311                                BA/BSc/HND   3 - 8 years          Lagos   \n",
       "312                       BA/BSc/HND , Others       3 years          Borno   \n",
       "313                                BA/BSc/HND       3 years          Lagos   \n",
       "314                                BA/BSc/HND                        Lagos   \n",
       "\n",
       "                                             Job Field  \\\n",
       "0    Medical / Healthcare  , Pharmaceutical  , Sale...   \n",
       "1          Procurement / Store-keeping / Supply Chain    \n",
       "2                                      ICT / Computer    \n",
       "3                       Consultancy  , NGO/Non-Profit    \n",
       "4                      Media / Advertising / Branding    \n",
       "..                                                 ...   \n",
       "310  Sales / Marketing / Retail / Business Developm...   \n",
       "311  Sales / Marketing / Retail / Business Developm...   \n",
       "312  Data, Business Analysis and AI  , NGO/Non-Profit    \n",
       "313  Sales / Marketing / Retail / Business Developm...   \n",
       "314                           Engineering / Technical    \n",
       "\n",
       "                  Salary Range City  \n",
       "0                          NaN  NaN  \n",
       "1                          NaN  NaN  \n",
       "2    ₦200,000 - ₦300,000/month  NaN  \n",
       "3                          NaN  NaN  \n",
       "4    ₦100,000 - ₦150,000/month  NaN  \n",
       "..                         ...  ...  \n",
       "310                        NaN  NaN  \n",
       "311                        NaN  NaN  \n",
       "312  ₦200,000 - ₦300,000/month  NaN  \n",
       "313                        NaN  NaN  \n",
       "314                        NaN  NaN  \n",
       "\n",
       "[315 rows x 14 columns]"
      ]
     },
     "execution_count": 105,
     "metadata": {},
     "output_type": "execute_result"
    }
   ],
   "source": [
    "pd.DataFrame(all_jobs)"
   ]
  },
  {
   "cell_type": "code",
   "execution_count": null,
   "id": "d5e77526-85d6-4263-b389-9b547b90d5d3",
   "metadata": {},
   "outputs": [],
   "source": []
  },
  {
   "cell_type": "code",
   "execution_count": 66,
   "id": "c78203cf-2428-41df-bf49-682d92a25a73",
   "metadata": {},
   "outputs": [],
   "source": [
    "resp = requests.get(\n",
    "    'https://www.myjobmag.com/job/programme-manager-water-resources-management-arctic-infrastructure'\n",
    ")"
   ]
  },
  {
   "cell_type": "code",
   "execution_count": 67,
   "id": "8fc775e7-f823-4b29-b109-03c23b91fbea",
   "metadata": {},
   "outputs": [],
   "source": [
    "s = bs(resp.content, 'html.parser')"
   ]
  },
  {
   "cell_type": "code",
   "execution_count": null,
   "id": "bcdca68b-d26b-465c-aceb-59439a5870e0",
   "metadata": {},
   "outputs": [],
   "source": []
  },
  {
   "cell_type": "code",
   "execution_count": 100,
   "id": "ecf714a9-92eb-480b-b863-fb1af4185fb9",
   "metadata": {},
   "outputs": [],
   "source": [
    "data = dict(\n",
    "    job_industry = s.find('li', class_='job-industry').text,\n",
    "    posted_on = s.find('div', id='posted-date').text,\n",
    "    deadline = s.find_all('div', class_='read-date-sec-li')[1].text,\n",
    "    job_details = s.find('div', class_='job-details').text\n",
    ")\n",
    "\n",
    "deets = dict(zip([i.text for i in s.find_all('span', class_='jkey-title')], [i.text for i in s.find_all('span', class_='jkey-info')]))\n",
    "\n",
    "data.update(deets)"
   ]
  },
  {
   "cell_type": "code",
   "execution_count": 101,
   "id": "ce5fb87c-89ec-40e6-830c-11ecfb90e96d",
   "metadata": {},
   "outputs": [],
   "source": []
  },
  {
   "cell_type": "code",
   "execution_count": 102,
   "id": "9d1c0cab-0947-4ccd-b74f-eae2ad002c1a",
   "metadata": {},
   "outputs": [
    {
     "data": {
      "text/plain": [
       "{'job_industry': '\\nView Jobs in Engineering / Technical\\n/\\nView Jobs at Arctic Infrastructure\\n',\n",
       " 'posted_on': 'Posted: Aug 27, 2024',\n",
       " 'deadline': 'Deadline: Sep 6, 2024',\n",
       " 'job_details': \"\\nJob Details\\n\\nDevelop and integrate an approach to water resources management and provide practical advice for sustainably managing water resources.\\nLead the strategic direction, planning, and\\xa0management\\xa0of the water resources program.\\nOversee the activities of the Lagos Water Partnership (LWP), a platform leading the development and/or delivery of an investment vision for Lagos water security\\nOversee investment opportunities, engagements with LWP members and the wider water resources sector, research, priority setting, partnerships, project portfolios, and results communication.\\nConvene meetings and coordinate the activities of the different tiers of LWP including the Technical Committee and the Working Groups.\\nPrepare meeting reports for different tiers of LWP.\\xa0\\nFollow up and ensure the implementation of the recommendations of the different tiers of LWP.\\nProvide technical expertise on Water Resources Management, including designing programming at the nexus of water security, climate, and urban infrastructure.\\nMonitor project progress, identify potential risks or deviations, and implement corrective measures as needed to stay on track.\\nProvides technical support and project implementation models to LWP with a view to strengthening water security and water resources management (WRM) in Lagos.\\nLed proposal development and program design efforts, including leading the preparation of rapid action plans, annual LWP plans, annual reports, or other roles as needed to expand Lagos water resources funding and partnership opportunities.\\xa0\\nWork closely with the ARCTIC INFRASTRUCTURE (AI) internal and government teams to achieve project objectives, and manage work processes associated with program outputs, deliverables, and operational compliance, including, but not limited to, work plans, internal/external reports, written and oral communications and correspondence with LWP members and the wider water resources sector.\\n\\nThe incumbent will be selected based on the following criteria;\\n\\nBachelor's degree required, Master's or advanced degree preferred in a field related to Water Resources Management, Environment, Project Management, Urban and Regional Planning, Public Policy, or International Relations.\\n\\xa0Minimum of 8 years of progressive project/program management on water resources or climate impact development projects.\\nExperience in technical and managerial roles in Water Resources Management programs, stakeholders’ engagement and management, climate change, or environment.\\nProven experience in project management, preferably in the water sector or related environmental field.\\nStrong understanding of water management principles, including knowledge of relevant regulations, technologies, and best practices.\\nProficiency in project management tools and software and familiarity with monitoring and evaluation techniques.\\nStrong analytical and problem-solving skills, program analysis, planning, new business development, and conceptualization skills with a proactive and results-oriented mindset.\\nExperience in financial management, budgeting, and resource allocation for climate-related initiatives.\\nExcellent organizational skills are essential, including the ability to coordinate a variety of tasks, meet deadlines, work effectively under pressure, and work as a team player.\\n\\nAbility to analyze data and make informed decisions based on technical information\\n\",\n",
       " 'Job Type': 'Full Time',\n",
       " 'Qualification': 'BA/BSc/HND , MBA/MSc/MA',\n",
       " 'Experience': '8 - 15 years',\n",
       " 'Location': 'Lagos',\n",
       " 'Job Field': 'Engineering / Technical\\xa0 , Project Management\\xa0'}"
      ]
     },
     "execution_count": 102,
     "metadata": {},
     "output_type": "execute_result"
    }
   ],
   "source": [
    "data"
   ]
  },
  {
   "cell_type": "code",
   "execution_count": 72,
   "id": "b6977078-7104-49e8-b590-640a3ba28e59",
   "metadata": {},
   "outputs": [
    {
     "data": {
      "text/plain": [
       "'\\nView Jobs in Engineering / Technical\\n/\\nView Jobs at Arctic Infrastructure\\n'"
      ]
     },
     "execution_count": 72,
     "metadata": {},
     "output_type": "execute_result"
    }
   ],
   "source": [
    "s.find('li', class_='job-industry').text"
   ]
  },
  {
   "cell_type": "code",
   "execution_count": 73,
   "id": "ba334753-033a-4705-a24f-0b5d77cc7292",
   "metadata": {},
   "outputs": [
    {
     "data": {
      "text/plain": [
       "'Posted: Aug 27, 2024'"
      ]
     },
     "execution_count": 73,
     "metadata": {},
     "output_type": "execute_result"
    }
   ],
   "source": [
    "s.find('div', id='posted-date').text"
   ]
  },
  {
   "cell_type": "code",
   "execution_count": 77,
   "id": "f92b3e9b-1306-49b7-9770-d08a7adde3ea",
   "metadata": {},
   "outputs": [
    {
     "data": {
      "text/plain": [
       "'Deadline: Sep 6, 2024'"
      ]
     },
     "execution_count": 77,
     "metadata": {},
     "output_type": "execute_result"
    }
   ],
   "source": [
    "s.find_all('div', class_='read-date-sec-li')[1].text"
   ]
  },
  {
   "cell_type": "code",
   "execution_count": 88,
   "id": "b81ec576-3022-4a5b-b9ba-e1bb5332420d",
   "metadata": {},
   "outputs": [
    {
     "data": {
      "text/plain": [
       "['Full Time',\n",
       " 'BA/BSc/HND , MBA/MSc/MA',\n",
       " '8 - 15 years',\n",
       " 'Lagos',\n",
       " 'Engineering / Technical\\xa0 , Project Management\\xa0']"
      ]
     },
     "execution_count": 88,
     "metadata": {},
     "output_type": "execute_result"
    }
   ],
   "source": [
    "[i.text for i in s.find_all('span', class_='jkey-info')]"
   ]
  },
  {
   "cell_type": "code",
   "execution_count": 89,
   "id": "c90c958d-c1e7-452b-baae-33b867cae026",
   "metadata": {},
   "outputs": [
    {
     "data": {
      "text/plain": [
       "['Job Type', 'Qualification', 'Experience', 'Location', 'Job Field']"
      ]
     },
     "execution_count": 89,
     "metadata": {},
     "output_type": "execute_result"
    }
   ],
   "source": [
    "[i.text for i in s.find_all('span', class_='jkey-title')]"
   ]
  },
  {
   "cell_type": "code",
   "execution_count": 90,
   "id": "634f7bcb-b76a-4e26-9a04-f63c8800b491",
   "metadata": {},
   "outputs": [
    {
     "data": {
      "text/plain": [
       "{'Job Type': 'Full Time',\n",
       " 'Qualification': 'BA/BSc/HND , MBA/MSc/MA',\n",
       " 'Experience': '8 - 15 years',\n",
       " 'Location': 'Lagos',\n",
       " 'Job Field': 'Engineering / Technical\\xa0 , Project Management\\xa0'}"
      ]
     },
     "execution_count": 90,
     "metadata": {},
     "output_type": "execute_result"
    }
   ],
   "source": [
    "dict(zip([i.text for i in s.find_all('span', class_='jkey-title')], [i.text for i in s.find_all('span', class_='jkey-info')]))"
   ]
  },
  {
   "cell_type": "code",
   "execution_count": 91,
   "id": "1109e91d-7600-4372-8837-8b4988efb243",
   "metadata": {},
   "outputs": [
    {
     "data": {
      "text/plain": [
       "\"\\nJob Details\\n\\nDevelop and integrate an approach to water resources management and provide practical advice for sustainably managing water resources.\\nLead the strategic direction, planning, and\\xa0management\\xa0of the water resources program.\\nOversee the activities of the Lagos Water Partnership (LWP), a platform leading the development and/or delivery of an investment vision for Lagos water security\\nOversee investment opportunities, engagements with LWP members and the wider water resources sector, research, priority setting, partnerships, project portfolios, and results communication.\\nConvene meetings and coordinate the activities of the different tiers of LWP including the Technical Committee and the Working Groups.\\nPrepare meeting reports for different tiers of LWP.\\xa0\\nFollow up and ensure the implementation of the recommendations of the different tiers of LWP.\\nProvide technical expertise on Water Resources Management, including designing programming at the nexus of water security, climate, and urban infrastructure.\\nMonitor project progress, identify potential risks or deviations, and implement corrective measures as needed to stay on track.\\nProvides technical support and project implementation models to LWP with a view to strengthening water security and water resources management (WRM) in Lagos.\\nLed proposal development and program design efforts, including leading the preparation of rapid action plans, annual LWP plans, annual reports, or other roles as needed to expand Lagos water resources funding and partnership opportunities.\\xa0\\nWork closely with the ARCTIC INFRASTRUCTURE (AI) internal and government teams to achieve project objectives, and manage work processes associated with program outputs, deliverables, and operational compliance, including, but not limited to, work plans, internal/external reports, written and oral communications and correspondence with LWP members and the wider water resources sector.\\n\\nThe incumbent will be selected based on the following criteria;\\n\\nBachelor's degree required, Master's or advanced degree preferred in a field related to Water Resources Management, Environment, Project Management, Urban and Regional Planning, Public Policy, or International Relations.\\n\\xa0Minimum of 8 years of progressive project/program management on water resources or climate impact development projects.\\nExperience in technical and managerial roles in Water Resources Management programs, stakeholders’ engagement and management, climate change, or environment.\\nProven experience in project management, preferably in the water sector or related environmental field.\\nStrong understanding of water management principles, including knowledge of relevant regulations, technologies, and best practices.\\nProficiency in project management tools and software and familiarity with monitoring and evaluation techniques.\\nStrong analytical and problem-solving skills, program analysis, planning, new business development, and conceptualization skills with a proactive and results-oriented mindset.\\nExperience in financial management, budgeting, and resource allocation for climate-related initiatives.\\nExcellent organizational skills are essential, including the ability to coordinate a variety of tasks, meet deadlines, work effectively under pressure, and work as a team player.\\n\\nAbility to analyze data and make informed decisions based on technical information\\n\""
      ]
     },
     "execution_count": 91,
     "metadata": {},
     "output_type": "execute_result"
    }
   ],
   "source": [
    "s.find('div', class_='job-details').text"
   ]
  },
  {
   "cell_type": "code",
   "execution_count": null,
   "id": "514530c5-bab5-4f9a-b748-9dbbc54f214c",
   "metadata": {},
   "outputs": [],
   "source": []
  },
  {
   "cell_type": "code",
   "execution_count": null,
   "id": "15af8ee9-37d9-4e69-97bb-5e37ef7cb698",
   "metadata": {},
   "outputs": [],
   "source": []
  }
 ],
 "metadata": {
  "kernelspec": {
   "display_name": "Python 3 (ipykernel)",
   "language": "python",
   "name": "python3"
  },
  "language_info": {
   "codemirror_mode": {
    "name": "ipython",
    "version": 3
   },
   "file_extension": ".py",
   "mimetype": "text/x-python",
   "name": "python",
   "nbconvert_exporter": "python",
   "pygments_lexer": "ipython3",
   "version": "3.11.7"
  }
 },
 "nbformat": 4,
 "nbformat_minor": 5
}
